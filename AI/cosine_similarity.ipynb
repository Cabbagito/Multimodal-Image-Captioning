{
 "cells": [
  {
   "cell_type": "code",
   "execution_count": 53,
   "metadata": {},
   "outputs": [],
   "source": [
    "from transformers import AutoModel, AutoTokenizer\n",
    "import torch\n",
    "from tqdm import tqdm\n",
    "from pickle import load, dump"
   ]
  },
  {
   "cell_type": "code",
   "execution_count": 61,
   "metadata": {},
   "outputs": [
    {
     "name": "stderr",
     "output_type": "stream",
     "text": [
      "Some weights of the model checkpoint at bert-large-uncased were not used when initializing BertModel: ['cls.predictions.transform.LayerNorm.weight', 'cls.predictions.transform.LayerNorm.bias', 'cls.seq_relationship.bias', 'cls.predictions.transform.dense.weight', 'cls.predictions.transform.dense.bias', 'cls.predictions.bias', 'cls.seq_relationship.weight']\n",
      "- This IS expected if you are initializing BertModel from the checkpoint of a model trained on another task or with another architecture (e.g. initializing a BertForSequenceClassification model from a BertForPreTraining model).\n",
      "- This IS NOT expected if you are initializing BertModel from the checkpoint of a model that you expect to be exactly identical (initializing a BertForSequenceClassification model from a BertForSequenceClassification model).\n"
     ]
    }
   ],
   "source": [
    "model = AutoModel.from_pretrained(\"bert-large-uncased\").cuda()\n",
    "tokenizer = AutoTokenizer.from_pretrained(\"bert-large-uncased\")"
   ]
  },
  {
   "cell_type": "code",
   "execution_count": 66,
   "metadata": {},
   "outputs": [],
   "source": [
    "with open(\"metrics/blip2_cs10k.pkl\", \"rb\") as f:\n",
    "    blip2_cs10k = load(f)\n",
    "\n",
    "with open(\"metrics/blip2_cs10k_np.pkl\", \"rb\") as f:\n",
    "    blip2_cs10k_np = load(f)\n",
    "\n",
    "with open(\"metrics/blip2_cs10k_ft.pkl\", \"rb\") as f:\n",
    "    blip2_cs10k_ft = load(f)\n",
    "\n",
    "with open(\"metrics/blip2_cs10k.pkl\", \"rb\") as f:\n",
    "    blip2_cs10k = load(f)\n",
    "\n",
    "with open(\"metrics/blip2_cs10k_np.pkl\", \"rb\") as f:\n",
    "    blip2_cs10k_np = load(f)\n",
    "\n",
    "with open(\"metrics/blip2_cs10k_ft.pkl\", \"rb\") as f:\n",
    "    blip2_cs10k_ft = load(f)\n",
    "\n",
    "def calculate_cosine_similarity(generated, model, tokenizer, cos):\n",
    "    inp = tokenizer(generated, return_tensors=\"pt\", padding=True,truncation=True).to(\"cuda\")\n",
    "    with torch.no_grad():\n",
    "        out = model(**inp).last_hidden_state[:, 0, :]\n",
    "    return cos(out[0].unsqueeze(0), out[1].unsqueeze(0)).cpu().numpy()\n",
    "    \n"
   ]
  },
  {
   "cell_type": "code",
   "execution_count": 79,
   "metadata": {},
   "outputs": [
    {
     "name": "stderr",
     "output_type": "stream",
     "text": [
      "100%|██████████| 3049/3049 [01:37<00:00, 31.13it/s]\n"
     ]
    }
   ],
   "source": [
    "cos = torch.nn.CosineSimilarity(dim=1, eps=1e-6)\n",
    "\n",
    "cosines = []\n",
    "model_metrics = blip2_cs10k_ft\n",
    "data = model_metrics['outputs']\n",
    "\n",
    "for out in tqdm(data):\n",
    "    cosines.append(calculate_cosine_similarity(out, model, tokenizer, cos))\n",
    "\n",
    "with open('metrics/blip2_cs10k_ft_cosine.pkl', 'wb') as f:\n",
    "    dump(cosines, f)\n",
    "\n"
   ]
  },
  {
   "cell_type": "code",
   "execution_count": 76,
   "metadata": {},
   "outputs": [
    {
     "name": "stdout",
     "output_type": "stream",
     "text": [
      "[0.55020344]\n",
      "[0.7162362]\n",
      "[0.8192205]\n"
     ]
    }
   ],
   "source": [
    "with open('metrics/blip2_cs10k_cosine.pkl', 'rb') as f:\n",
    "    blip2_cs10k_cosine = load(f)\n",
    "\n",
    "with open('metrics/blip2_cs10k_np_cosine.pkl', 'rb') as f:\n",
    "    blip2_cs10k_np_cosine = load(f)\n",
    "\n",
    "with open('metrics/blip2_cs10k_ft_cosine.pkl', 'rb') as f:\n",
    "    blip2_cs10k_ft_cosine = load(f)\n",
    "\n",
    "print(sum(blip2_cs10k_cosine)/len(blip2_cs10k_cosine))\n",
    "\n",
    "print(sum(blip2_cs10k_np_cosine)/len(blip2_cs10k_np_cosine))\n",
    "\n",
    "print(sum(blip2_cs10k_ft_cosine)/len(blip2_cs10k_ft_cosine))"
   ]
  },
  {
   "cell_type": "code",
   "execution_count": 80,
   "metadata": {},
   "outputs": [
    {
     "name": "stdout",
     "output_type": "stream",
     "text": [
      "[0.52231216]\n",
      "[0.72126746]\n",
      "[0.8195744]\n"
     ]
    }
   ],
   "source": [
    "with open('metrics/blip2_cs10k_cosine.pkl', 'rb') as f:\n",
    "    blip2_cs10k_cosine = load(f)\n",
    "\n",
    "with open('metrics/blip2_cs10k_np_cosine.pkl', 'rb') as f:\n",
    "    blip2_cs10k_np_cosine = load(f)\n",
    "\n",
    "with open('metrics/blip2_cs10k_ft_cosine.pkl', 'rb') as f:\n",
    "    blip2_cs10k_ft_cosine = load(f)\n",
    "\n",
    "print(sum(blip2_cs10k_cosine)/len(blip2_cs10k_cosine))\n",
    "\n",
    "print(sum(blip2_cs10k_np_cosine)/len(blip2_cs10k_np_cosine))\n",
    "\n",
    "print(sum(blip2_cs10k_ft_cosine)/len(blip2_cs10k_ft_cosine))\n"
   ]
  }
 ],
 "metadata": {
  "kernelspec": {
   "display_name": "ai",
   "language": "python",
   "name": "python3"
  },
  "language_info": {
   "codemirror_mode": {
    "name": "ipython",
    "version": 3
   },
   "file_extension": ".py",
   "mimetype": "text/x-python",
   "name": "python",
   "nbconvert_exporter": "python",
   "pygments_lexer": "ipython3",
   "version": "3.10.12"
  },
  "orig_nbformat": 4
 },
 "nbformat": 4,
 "nbformat_minor": 2
}
